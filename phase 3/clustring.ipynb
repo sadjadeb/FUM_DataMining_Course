{
  "nbformat": 4,
  "nbformat_minor": 0,
  "metadata": {
    "colab": {
      "name": "clustring.ipynb",
      "provenance": [],
      "collapsed_sections": []
    },
    "kernelspec": {
      "name": "python3",
      "display_name": "Python 3"
    },
    "language_info": {
      "name": "python"
    }
  },
  "cells": [
    {
      "cell_type": "markdown",
      "metadata": {
        "id": "6dSyOu6m0yw_"
      },
      "source": [
        "###import libraries"
      ]
    },
    {
      "cell_type": "code",
      "metadata": {
        "id": "FlfO2M9cb3lA"
      },
      "source": [
        "import pandas as pd\n",
        "import numpy as np\n",
        "import matplotlib.pyplot as plt\n",
        "from sklearn.cluster import MiniBatchKMeans, DBSCAN\n",
        "from sklearn import preprocessing\n",
        "from sklearn.metrics import accuracy_score\n",
        "from sklearn.model_selection import train_test_split\n",
        "from sklearn import metrics"
      ],
      "execution_count": 1,
      "outputs": []
    },
    {
      "cell_type": "markdown",
      "metadata": {
        "id": "9t-3S_Mr04Xm"
      },
      "source": [
        "###loading data"
      ]
    },
    {
      "cell_type": "code",
      "metadata": {
        "id": "lKZy7lQg07Pv"
      },
      "source": [
        "divar_df = pd.read_csv('/content/drive/MyDrive/divar_posts_dataset.csv', index_col=[0])\n",
        "dk_df = pd.read_csv('/content/drive/MyDrive/orders.csv')"
      ],
      "execution_count": 2,
      "outputs": []
    },
    {
      "cell_type": "code",
      "metadata": {
        "colab": {
          "base_uri": "https://localhost:8080/"
        },
        "id": "JYLxWeEG6IHT",
        "outputId": "ace8a5a6-96de-479e-e864-eb49d69b705d"
      },
      "source": [
        "print(divar_df.shape)\n",
        "print(dk_df.shape)"
      ],
      "execution_count": 3,
      "outputs": [
        {
          "output_type": "stream",
          "text": [
            "(947635, 16)\n",
            "(200000, 7)\n"
          ],
          "name": "stdout"
        }
      ]
    },
    {
      "cell_type": "markdown",
      "metadata": {
        "id": "q2y_4OXYgti-"
      },
      "source": [
        "#frequently used functions"
      ]
    },
    {
      "cell_type": "code",
      "metadata": {
        "id": "Q3stNlmwZg1Y"
      },
      "source": [
        "def find_cluster_labels(kmeans, actual_labels):\n",
        "    # Associates most probable label with each cluster in KMeans model\n",
        "\n",
        "    inferred_labels = {}\n",
        "    for i in range(kmeans.n_clusters):\n",
        "        labels = []\n",
        "        index = np.where(kmeans.labels_ == i)\n",
        "\n",
        "        labels.append(actual_labels[index])\n",
        "        if len(labels[0]) == 1:\n",
        "            counts = np.bincount(labels[0])\n",
        "        else:\n",
        "            counts = np.bincount(np.squeeze(labels))\n",
        "\n",
        "        # assign the cluster to a value in the inferred_labels dictionary\n",
        "        if np.argmax(counts) in inferred_labels:\n",
        "            inferred_labels[np.argmax(counts)].append(i)\n",
        "        else:\n",
        "            inferred_labels[np.argmax(counts)] = [i]\n",
        "\n",
        "        print('Cluster: {}, label: {}'.format(i, np.argmax(counts)))\n",
        "        \n",
        "    return inferred_labels  \n",
        "\n",
        "def find_data_labels(X_labels, cluster_labels):\n",
        "    # Determines label for each array, depending on the cluster it has been assigned to.\n",
        "    \n",
        "    predicted_labels = np.zeros(len(X_labels)).astype(np.uint8)\n",
        "    for i, cluster in enumerate(X_labels):\n",
        "        for key, value in cluster_labels.items():\n",
        "            if cluster in value:\n",
        "                predicted_labels[i] = key\n",
        "                \n",
        "    return predicted_labels"
      ],
      "execution_count": 4,
      "outputs": []
    },
    {
      "cell_type": "code",
      "metadata": {
        "id": "ILiFEH19vAUm"
      },
      "source": [
        "def evaluate_kmeans(estimator, labels):\n",
        "    contingency_matrix = metrics.cluster.contingency_matrix(labels, estimator.labels_)\n",
        "    \n",
        "    print('Number of Clusters: ' + str(estimator.n_clusters))\n",
        "    print(\"purity:\" + str(np.sum(np.amax(contingency_matrix, axis=0)) / np.sum(contingency_matrix)))"
      ],
      "execution_count": 5,
      "outputs": []
    },
    {
      "cell_type": "markdown",
      "metadata": {
        "id": "tnTzUs4VjQuB"
      },
      "source": [
        "#part 1"
      ]
    },
    {
      "cell_type": "markdown",
      "metadata": {
        "id": "eYny2cF6h7gk"
      },
      "source": [
        "prepare data for clustering"
      ]
    },
    {
      "cell_type": "code",
      "metadata": {
        "id": "1IM6-OIKhiev"
      },
      "source": [
        "divar_df = divar_df.loc[~(divar_df['cat2'].isnull())]\n",
        "\n",
        "cat1_le = preprocessing.LabelEncoder()\n",
        "cat2_le = preprocessing.LabelEncoder()\n",
        "city_le = preprocessing.LabelEncoder()\n",
        "\n",
        "divar_df['cat1'] = cat1_le.fit_transform(divar_df['cat1'])\n",
        "divar_df['cat2'] = cat2_le.fit_transform(divar_df['cat2'])\n",
        "divar_df['city'] = city_le.fit_transform(divar_df['city'])\n",
        "\n",
        "X = divar_df[[\"cat1\", \"cat2\"]].values\n",
        "Y = divar_df[[\"city\"]].values\n",
        "X_train, X_test, Y_train, Y_test = train_test_split(X, Y, random_state=0, test_size=0.2)"
      ],
      "execution_count": 6,
      "outputs": []
    },
    {
      "cell_type": "markdown",
      "metadata": {
        "id": "k1y-ahYq6tDW"
      },
      "source": [
        "define clustering function"
      ]
    },
    {
      "cell_type": "code",
      "metadata": {
        "colab": {
          "base_uri": "https://localhost:8080/"
        },
        "id": "1XsUHsGDxs3v",
        "outputId": "eb2d8776-434d-4faf-bd0f-90880729c94c"
      },
      "source": [
        "clusters_number = divar_df['city'].nunique()\n",
        "print(\"number of cities exists in dataset: \" + str(clusters_number))\n",
        "\n",
        "kmeans = MiniBatchKMeans(n_clusters = clusters_number)\n",
        "kmeans.fit(X_train)"
      ],
      "execution_count": 7,
      "outputs": [
        {
          "output_type": "stream",
          "text": [
            "number of cities exists in dataset: 9\n"
          ],
          "name": "stdout"
        },
        {
          "output_type": "execute_result",
          "data": {
            "text/plain": [
              "MiniBatchKMeans(batch_size=100, compute_labels=True, init='k-means++',\n",
              "                init_size=None, max_iter=100, max_no_improvement=10,\n",
              "                n_clusters=9, n_init=3, random_state=None,\n",
              "                reassignment_ratio=0.01, tol=0.0, verbose=0)"
            ]
          },
          "metadata": {
            "tags": []
          },
          "execution_count": 7
        }
      ]
    },
    {
      "cell_type": "markdown",
      "metadata": {
        "id": "rQcygE1tiLov"
      },
      "source": [
        "clustering and find each clusters label"
      ]
    },
    {
      "cell_type": "code",
      "metadata": {
        "colab": {
          "base_uri": "https://localhost:8080/"
        },
        "id": "QhfvHy-va-7r",
        "outputId": "b96f7ff6-2cfd-4a84-f2c2-68aba28728d2"
      },
      "source": [
        "cluster_labels = find_cluster_labels(kmeans, Y_train)\n",
        "X_clusters = kmeans.predict(X_train)\n",
        "predicted_labels = find_data_labels(X_clusters, cluster_labels)"
      ],
      "execution_count": 8,
      "outputs": [
        {
          "output_type": "stream",
          "text": [
            "Cluster: 0, label: 8\n",
            "Cluster: 1, label: 8\n",
            "Cluster: 2, label: 8\n",
            "Cluster: 3, label: 8\n",
            "Cluster: 4, label: 8\n",
            "Cluster: 5, label: 8\n",
            "Cluster: 6, label: 8\n",
            "Cluster: 7, label: 8\n",
            "Cluster: 8, label: 8\n"
          ],
          "name": "stdout"
        }
      ]
    },
    {
      "cell_type": "markdown",
      "metadata": {
        "id": "SamZyNa0u7Sx"
      },
      "source": [
        "evaluate clustering"
      ]
    },
    {
      "cell_type": "code",
      "metadata": {
        "colab": {
          "base_uri": "https://localhost:8080/"
        },
        "id": "CUxaGrmrblq3",
        "outputId": "5251579e-6206-4555-cc96-57e6c0e21b9e"
      },
      "source": [
        "evaluate_kmeans(kmeans, Y_train)"
      ],
      "execution_count": 9,
      "outputs": [
        {
          "output_type": "stream",
          "text": [
            "Number of Clusters: 9\n",
            "purity:0.4666083433218669\n"
          ],
          "name": "stdout"
        }
      ]
    },
    {
      "cell_type": "markdown",
      "metadata": {
        "id": "mImLYhgipvnL"
      },
      "source": [
        "#part2"
      ]
    },
    {
      "cell_type": "markdown",
      "metadata": {
        "id": "4guB41Lm6V_j"
      },
      "source": [
        "prepare data for clustering"
      ]
    },
    {
      "cell_type": "code",
      "metadata": {
        "colab": {
          "base_uri": "https://localhost:8080/"
        },
        "id": "jw9hUYcFteJH",
        "outputId": "7be35a9e-8ba2-4579-84eb-d53b7deba9a8"
      },
      "source": [
        "dk_df.info()"
      ],
      "execution_count": 10,
      "outputs": [
        {
          "output_type": "stream",
          "text": [
            "<class 'pandas.core.frame.DataFrame'>\n",
            "RangeIndex: 200000 entries, 0 to 199999\n",
            "Data columns (total 7 columns):\n",
            " #   Column                 Non-Null Count   Dtype  \n",
            "---  ------                 --------------   -----  \n",
            " 0   ID_Order               200000 non-null  int64  \n",
            " 1   ID_Customer            200000 non-null  int64  \n",
            " 2   ID_Item                200000 non-null  int64  \n",
            " 3   DateTime_CartFinalize  200000 non-null  object \n",
            " 4   Amount_Gross_Order     200000 non-null  float64\n",
            " 5   city_name_fa           200000 non-null  object \n",
            " 6   Quantity_item          200000 non-null  float64\n",
            "dtypes: float64(2), int64(3), object(2)\n",
            "memory usage: 10.7+ MB\n"
          ],
          "name": "stdout"
        }
      ]
    },
    {
      "cell_type": "code",
      "metadata": {
        "id": "N1P3PNI6pyEF"
      },
      "source": [
        "city_le = preprocessing.LabelEncoder()\n",
        "\n",
        "dk_df['city_name_fa'] = city_le.fit_transform(dk_df['city_name_fa'])\n",
        "\n",
        "X = dk_df[['ID_Item']].values\n",
        "Y = dk_df[['city_name_fa']].values\n",
        "X_train, X_test, Y_train, Y_test = train_test_split(X, Y, random_state=0, test_size=0.2)"
      ],
      "execution_count": 11,
      "outputs": []
    },
    {
      "cell_type": "markdown",
      "metadata": {
        "id": "Iv_CY8HE6ZDg"
      },
      "source": [
        "define clustering function"
      ]
    },
    {
      "cell_type": "code",
      "metadata": {
        "colab": {
          "base_uri": "https://localhost:8080/"
        },
        "id": "C1XZC5q8umCi",
        "outputId": "999f2770-7341-4005-e301-463bc51c6ddf"
      },
      "source": [
        "cities_number = dk_df['city_name_fa'].nunique()\n",
        "print(\"number of cities exists in dataset: \" + str(cities_number))\n",
        "\n",
        "kmeans = MiniBatchKMeans(n_clusters = 20)\n",
        "kmeans.fit(X_train)"
      ],
      "execution_count": 12,
      "outputs": [
        {
          "output_type": "stream",
          "text": [
            "number of cities exists in dataset: 906\n"
          ],
          "name": "stdout"
        },
        {
          "output_type": "execute_result",
          "data": {
            "text/plain": [
              "MiniBatchKMeans(batch_size=100, compute_labels=True, init='k-means++',\n",
              "                init_size=None, max_iter=100, max_no_improvement=10,\n",
              "                n_clusters=20, n_init=3, random_state=None,\n",
              "                reassignment_ratio=0.01, tol=0.0, verbose=0)"
            ]
          },
          "metadata": {
            "tags": []
          },
          "execution_count": 12
        }
      ]
    },
    {
      "cell_type": "markdown",
      "metadata": {
        "id": "GwjpIzv66egw"
      },
      "source": [
        "clustering and find each cluster's label"
      ]
    },
    {
      "cell_type": "code",
      "metadata": {
        "colab": {
          "base_uri": "https://localhost:8080/"
        },
        "id": "UFjh5-bMvDX9",
        "outputId": "5d6f0c35-fce3-410a-f49c-c9813802b65e"
      },
      "source": [
        "cluster_labels = find_cluster_labels(kmeans, Y_train)\n",
        "X_clusters = kmeans.predict(X_train)\n",
        "predicted_labels = find_data_labels(X_clusters, cluster_labels)"
      ],
      "execution_count": 13,
      "outputs": [
        {
          "output_type": "stream",
          "text": [
            "Cluster: 0, label: 215\n",
            "Cluster: 1, label: 215\n",
            "Cluster: 2, label: 215\n",
            "Cluster: 3, label: 215\n",
            "Cluster: 4, label: 215\n",
            "Cluster: 5, label: 215\n",
            "Cluster: 6, label: 215\n",
            "Cluster: 7, label: 215\n",
            "Cluster: 8, label: 215\n",
            "Cluster: 9, label: 215\n",
            "Cluster: 10, label: 215\n",
            "Cluster: 11, label: 215\n",
            "Cluster: 12, label: 215\n",
            "Cluster: 13, label: 215\n",
            "Cluster: 14, label: 215\n",
            "Cluster: 15, label: 215\n",
            "Cluster: 16, label: 215\n",
            "Cluster: 17, label: 215\n",
            "Cluster: 18, label: 215\n",
            "Cluster: 19, label: 215\n"
          ],
          "name": "stdout"
        }
      ]
    },
    {
      "cell_type": "markdown",
      "metadata": {
        "id": "DU0cul1p6uvQ"
      },
      "source": [
        "evaluate clustering"
      ]
    },
    {
      "cell_type": "code",
      "metadata": {
        "colab": {
          "base_uri": "https://localhost:8080/"
        },
        "id": "Jd19EWH7vJlp",
        "outputId": "bcf9e60a-66a3-43a9-eea6-3a62263ee9aa"
      },
      "source": [
        "evaluate_kmeans(kmeans, Y_train)"
      ],
      "execution_count": 14,
      "outputs": [
        {
          "output_type": "stream",
          "text": [
            "Number of Clusters: 20\n",
            "purity:0.54169375\n"
          ],
          "name": "stdout"
        }
      ]
    },
    {
      "cell_type": "markdown",
      "metadata": {
        "id": "tEfUqi4Q50oT"
      },
      "source": [
        "#part 4"
      ]
    },
    {
      "cell_type": "markdown",
      "metadata": {
        "id": "IQGb4O7B6wlM"
      },
      "source": [
        "prepare data for clustering"
      ]
    },
    {
      "cell_type": "code",
      "metadata": {
        "id": "2ioTPSM156H0"
      },
      "source": [
        "divar_df = divar_df.loc[~(divar_df['cat2'].isnull())]\n",
        "divar_df = divar_df.loc[~(divar_df['price'] == -1)]\n",
        "\n",
        "\n",
        "# cat1 & cat2 have already encoded in part 1\n",
        "\n",
        "price_le = preprocessing.StandardScaler()\n",
        "\n",
        "# divar_df['price'] = city_le.fit_transform(divar_df['price'])\n",
        "\n",
        "X = divar_df[[\"cat1\", \"cat2\"]].values\n",
        "Y = divar_df[[\"price\"]].values\n",
        "X_train, X_test, Y_train, Y_test = train_test_split(X, Y, random_state=0, test_size=0.2)"
      ],
      "execution_count": 15,
      "outputs": []
    },
    {
      "cell_type": "markdown",
      "metadata": {
        "id": "bX1wU3hZ60Zp"
      },
      "source": [
        "define clustering function"
      ]
    },
    {
      "cell_type": "code",
      "metadata": {
        "colab": {
          "base_uri": "https://localhost:8080/"
        },
        "id": "yvbgYxwq6MW1",
        "outputId": "71556588-513a-4a8a-b961-a7991e391a4f"
      },
      "source": [
        "kmeans = MiniBatchKMeans(n_clusters=10)\n",
        "kmeans.fit(X_train)"
      ],
      "execution_count": 16,
      "outputs": [
        {
          "output_type": "execute_result",
          "data": {
            "text/plain": [
              "MiniBatchKMeans(batch_size=100, compute_labels=True, init='k-means++',\n",
              "                init_size=None, max_iter=100, max_no_improvement=10,\n",
              "                n_clusters=10, n_init=3, random_state=None,\n",
              "                reassignment_ratio=0.01, tol=0.0, verbose=0)"
            ]
          },
          "metadata": {
            "tags": []
          },
          "execution_count": 16
        }
      ]
    },
    {
      "cell_type": "markdown",
      "metadata": {
        "id": "__XkEe0Y7YXb"
      },
      "source": [
        "clustering and find each clusters label"
      ]
    },
    {
      "cell_type": "code",
      "metadata": {
        "colab": {
          "base_uri": "https://localhost:8080/"
        },
        "id": "qys-GGtd7axO",
        "outputId": "f361dab7-b13c-4875-f65c-9e3b46af1f6d"
      },
      "source": [
        "cluster_labels = find_cluster_labels(kmeans, Y_train)\n",
        "X_clusters = kmeans.predict(X_train)\n",
        "predicted_labels = find_data_labels(X_clusters, cluster_labels)"
      ],
      "execution_count": 17,
      "outputs": [
        {
          "output_type": "stream",
          "text": [
            "Cluster: 0, label: 150000\n",
            "Cluster: 1, label: 50000\n",
            "Cluster: 2, label: 12000000\n",
            "Cluster: 3, label: 100000\n",
            "Cluster: 4, label: 300000\n",
            "Cluster: 5, label: 100000\n",
            "Cluster: 6, label: 100000\n",
            "Cluster: 7, label: 50000\n",
            "Cluster: 8, label: 100000\n",
            "Cluster: 9, label: 200000\n"
          ],
          "name": "stdout"
        }
      ]
    },
    {
      "cell_type": "markdown",
      "metadata": {
        "id": "PzUI0dNb7-q_"
      },
      "source": [
        "evaluate clustering"
      ]
    },
    {
      "cell_type": "code",
      "metadata": {
        "id": "s5fUB-PW7-Aw",
        "colab": {
          "base_uri": "https://localhost:8080/"
        },
        "outputId": "45a99cde-b2d5-443c-9cff-2f672146e046"
      },
      "source": [
        "Y_train = Y_train.ravel()\n",
        "correct =0\n",
        "for i in range(len(Y_train)):\n",
        "  alpha = 0.9\n",
        "  max_price = Y_train[i] * (1 + alpha)\n",
        "  min_price = Y_train[i] * (1 - alpha)\n",
        "  if min_price < predicted_labels[i] < max_price:\n",
        "    correct += 1\n",
        "\n",
        "print('Number of Clusters: ' + str(kmeans.n_clusters))\n",
        "print(\"accuracy: \" + str(correct/len(Y_train)))"
      ],
      "execution_count": 18,
      "outputs": [
        {
          "output_type": "stream",
          "text": [
            "Number of Clusters: 10\n",
            "accuracy: 0.003503497127132356\n"
          ],
          "name": "stdout"
        }
      ]
    }
  ]
}