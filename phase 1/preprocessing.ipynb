{
  "nbformat": 4,
  "nbformat_minor": 0,
  "metadata": {
    "kernelspec": {
      "display_name": "Python 3",
      "language": "python",
      "name": "python3"
    },
    "language_info": {
      "codemirror_mode": {
        "name": "ipython",
        "version": 3
      },
      "file_extension": ".py",
      "mimetype": "text/x-python",
      "name": "python",
      "nbconvert_exporter": "python",
      "pygments_lexer": "ipython3",
      "version": "3.9.2"
    },
    "colab": {
      "name": "preprocessing.ipynb",
      "provenance": [],
      "collapsed_sections": []
    }
  },
  "cells": [
    {
      "cell_type": "markdown",
      "metadata": {
        "id": "qtyk8VTIu5-O"
      },
      "source": [
        "### import libraries"
      ]
    },
    {
      "cell_type": "code",
      "metadata": {
        "collapsed": true,
        "pycharm": {
          "name": "#%%\n"
        },
        "colab": {
          "base_uri": "https://localhost:8080/"
        },
        "id": "0JcHG3eggd2F",
        "outputId": "8befdcd8-0b3d-4b32-f122-b68ef4eac1e9"
      },
      "source": [
        "import pandas as pd\n",
        "pd.set_option('display.float_format', '{:.4f}'.format)\n",
        "from google.colab import drive\n",
        "drive.mount('/content/drive')\n",
        "import matplotlib.pyplot as plt\n",
        "import numpy as np"
      ],
      "execution_count": null,
      "outputs": [
        {
          "output_type": "stream",
          "text": [
            "Mounted at /content/drive\n"
          ],
          "name": "stdout"
        }
      ]
    },
    {
      "cell_type": "markdown",
      "metadata": {
        "collapsed": false,
        "pycharm": {
          "name": "#%% md\n"
        },
        "id": "LYk9vpVCgd2T"
      },
      "source": [
        "### loading data set"
      ]
    },
    {
      "cell_type": "code",
      "metadata": {
        "pycharm": {
          "name": "#%%\n"
        },
        "colab": {
          "base_uri": "https://localhost:8080/"
        },
        "id": "wZnrLTdDgd2V",
        "outputId": "89c36360-4b08-476c-da32-b37264ca3918"
      },
      "source": [
        "divar_df = pd.read_csv('/content/drive/MyDrive/divar_posts_dataset.csv', index_col=[0])\n",
        "divar_df.drop('id', axis=1, inplace=True)\n",
        "divar_df.year.replace(to_replace=\"<1366\",value=int(\"1366\"), inplace=True)\n",
        "divar_df['year'] = pd.to_numeric(divar_df['year'])\n",
        "print(divar_df.info())"
      ],
      "execution_count": null,
      "outputs": [
        {
          "output_type": "stream",
          "text": [
            "<class 'pandas.core.frame.DataFrame'>\n",
            "Int64Index: 947635 entries, 0 to 947634\n",
            "Data columns (total 15 columns):\n",
            " #   Column           Non-Null Count   Dtype  \n",
            "---  ------           --------------   -----  \n",
            " 0   archive_by_user  947635 non-null  bool   \n",
            " 1   brand            190892 non-null  object \n",
            " 2   cat1             947635 non-null  object \n",
            " 3   cat2             945877 non-null  object \n",
            " 4   cat3             775301 non-null  object \n",
            " 5   city             947635 non-null  object \n",
            " 6   created_at       947635 non-null  object \n",
            " 7   desc             947635 non-null  object \n",
            " 8   image_count      947635 non-null  int64  \n",
            " 9   mileage          120451 non-null  float64\n",
            " 10  platform         947635 non-null  object \n",
            " 11  price            947635 non-null  int64  \n",
            " 12  title            947635 non-null  object \n",
            " 13  type             98529 non-null   object \n",
            " 14  year             120451 non-null  float64\n",
            "dtypes: bool(1), float64(2), int64(2), object(10)\n",
            "memory usage: 109.4+ MB\n",
            "None\n"
          ],
          "name": "stdout"
        }
      ]
    },
    {
      "cell_type": "markdown",
      "metadata": {
        "pycharm": {
          "name": "#%% md\n"
        },
        "id": "rnndqwIGgd2X"
      },
      "source": [
        "### mode and median computation"
      ]
    },
    {
      "cell_type": "code",
      "metadata": {
        "pycharm": {
          "name": "#%%\n",
          "is_executing": true
        },
        "colab": {
          "base_uri": "https://localhost:8080/"
        },
        "id": "EmrsqCpNgd2X",
        "outputId": "cf3acacb-5e13-41ed-b7c5-c891f81e4469"
      },
      "source": [
        "print(divar_df.describe())\n",
        "print(\"\\nmode:\")\n",
        "with pd.option_context('display.max_rows', None, 'display.max_columns', None):\n",
        "    print(divar_df.mode(axis=0))\n",
        "print(\"\\nmedian:\")\n",
        "print(divar_df.median())"
      ],
      "execution_count": null,
      "outputs": [
        {
          "output_type": "stream",
          "text": [
            "       image_count     mileage          price        year\n",
            "count  947635.0000 120451.0000    947635.0000 120451.0000\n",
            "mean        1.7859 100862.2919   3398461.5289   1387.6430\n",
            "std         1.1277  98368.4709  13717407.5714      5.6393\n",
            "min         0.0000      0.0000        -1.0000   1366.0000\n",
            "25%         1.0000  19000.0000     30000.0000   1384.0000\n",
            "50%         2.0000  75000.0000    150000.0000   1389.0000\n",
            "75%         2.0000 160000.0000    600000.0000   1392.0000\n",
            "max        16.0000 500000.0000 400000000.0000   1395.0000\n",
            "\n",
            "mode:\n",
            "   archive_by_user                   brand          cat1  \\\n",
            "0             True  پراید صندوق‌دار::Pride  for-the-home   \n",
            "\n",
            "                        cat2   cat3    city     created_at        desc  \\\n",
            "0  furniture-and-home-decore  light  Tehran  Saturday 12PM  کاملا سالم   \n",
            "\n",
            "   image_count     mileage platform  price title   type      year  \n",
            "0            1 200000.0000   mobile     -1  بوفه  women 1393.0000  \n",
            "\n",
            "median:\n",
            "archive_by_user        1.0000\n",
            "image_count            2.0000\n",
            "mileage            75000.0000\n",
            "price             150000.0000\n",
            "year                1389.0000\n",
            "dtype: float64\n"
          ],
          "name": "stdout"
        }
      ]
    },
    {
      "cell_type": "markdown",
      "metadata": {
        "id": "Yp0JQeFR5ITn"
      },
      "source": [
        "### calculate proper mean of price column"
      ]
    },
    {
      "cell_type": "code",
      "metadata": {
        "colab": {
          "base_uri": "https://localhost:8080/"
        },
        "id": "BLpj0RyGucGq",
        "outputId": "16e4e265-d695-42c0-dc06-3a96c465763b"
      },
      "source": [
        "copy_df = divar_df.loc[~(divar_df['price'] == -1)]\n",
        "copy_df['price'].describe()"
      ],
      "execution_count": null,
      "outputs": [
        {
          "output_type": "execute_result",
          "data": {
            "text/plain": [
              "count      786203.0000\n",
              "mean      4096271.8946\n",
              "std      14964808.8678\n",
              "min             1.0000\n",
              "25%         71750.5000\n",
              "50%        220000.0000\n",
              "75%        870000.0000\n",
              "max     400000000.0000\n",
              "Name: price, dtype: float64"
            ]
          },
          "metadata": {
            "tags": []
          },
          "execution_count": 4
        }
      ]
    },
    {
      "cell_type": "markdown",
      "metadata": {
        "id": "hbGBAC4JuwMr"
      },
      "source": [
        "### plot boxplot"
      ]
    },
    {
      "cell_type": "code",
      "metadata": {
        "colab": {
          "base_uri": "https://localhost:8080/",
          "height": 592
        },
        "id": "jNkJtiFtISJF",
        "outputId": "86b7e066-6723-4b6e-86bb-4fea25df3438"
      },
      "source": [
        "plt.figure(figsize =(7, 10))\n",
        "plt.boxplot(divar_df['image_count'], showmeans=True, labels=['image_count'], notch=True)\n",
        "plt.show()"
      ],
      "execution_count": null,
      "outputs": [
        {
          "output_type": "display_data",
          "data": {
            "image/png": "[encoded data removed]",
            "text/plain": [
              "<Figure size 504x720 with 1 Axes>"
            ]
          },
          "metadata": {
            "tags": [],
            "needs_background": "light"
          }
        }
      ]
    },
    {
      "cell_type": "code",
      "metadata": {
        "colab": {
          "base_uri": "https://localhost:8080/",
          "height": 874
        },
        "id": "VQQS_wOiKIx1",
        "outputId": "3e1ac954-fa3e-4b97-857e-8647031d365b"
      },
      "source": [
        "plt.figure(figsize =(7, 15))\n",
        "copy_df = divar_df.loc[~(divar_df['price'] == -1)]\n",
        "plt.boxplot(copy_df['price'], showmeans=True, labels=['price'], notch=True)\n",
        "plt.show()"
      ],
      "execution_count": null,
      "outputs": [
        {
          "output_type": "display_data",
          "data": {
            "image/png": "[encoded data removed]",
            "text/plain": [
              "<Figure size 504x1080 with 1 Axes>"
            ]
          },
          "metadata": {
            "tags": [],
            "needs_background": "light"
          }
        }
      ]
    },
    {
      "cell_type": "code",
      "metadata": {
        "colab": {
          "base_uri": "https://localhost:8080/",
          "height": 592
        },
        "id": "JASyo4NoOUuE",
        "outputId": "0e89fa70-78aa-4322-e7ad-8a9145ddf471"
      },
      "source": [
        "copy_df = divar_df[divar_df['mileage'].notna()]\n",
        "plt.figure(figsize =(7, 10))\n",
        "plt.boxplot(copy_df['mileage'], showmeans=True, labels=['mileage'])\n",
        "plt.show()"
      ],
      "execution_count": null,
      "outputs": [
        {
          "output_type": "display_data",
          "data": {
            "image/png": "[encoded data removed]",
            "text/plain": [
              "<Figure size 504x720 with 1 Axes>"
            ]
          },
          "metadata": {
            "tags": [],
            "needs_background": "light"
          }
        }
      ]
    },
    {
      "cell_type": "code",
      "metadata": {
        "id": "wt21ymXgOc1K",
        "colab": {
          "base_uri": "https://localhost:8080/",
          "height": 592
        },
        "outputId": "8fed6753-0cd1-4baa-851a-6fd06a6987c5"
      },
      "source": [
        "copy_df = divar_df[divar_df['year'].notna()]\n",
        "plt.figure(figsize =(7, 10))\n",
        "plt.boxplot(copy_df['year'], showmeans=True, labels=['year'])\n",
        "plt.show()"
      ],
      "execution_count": null,
      "outputs": [
        {
          "output_type": "display_data",
          "data": {
            "image/png": "[encoded data removed]",
            "text/plain": [
              "<Figure size 504x720 with 1 Axes>"
            ]
          },
          "metadata": {
            "tags": [],
            "needs_background": "light"
          }
        }
      ]
    },
    {
      "cell_type": "markdown",
      "metadata": {
        "id": "kYZpSplBqbmq"
      },
      "source": [
        "### finding outliers"
      ]
    },
    {
      "cell_type": "code",
      "metadata": {
        "colab": {
          "base_uri": "https://localhost:8080/"
        },
        "id": "2st9945rqgCh",
        "outputId": "bf8fb2fe-8524-4592-9c51-0c51d4271199"
      },
      "source": [
        "# finding the 1st quartile\n",
        "q1 = np.quantile(divar_df['image_count'], 0.25)\n",
        "# finding the 3rd quartile\n",
        "q3 = np.quantile(divar_df['image_count'], 0.75)\n",
        " \n",
        "# finding the iqr region\n",
        "iqr = q3-q1\n",
        " \n",
        "# finding upper and lower whiskers\n",
        "upper_bound = q3+(1.5*iqr)\n",
        "lower_bound = q1-(1.5*iqr)\n",
        "print(upper_bound, lower_bound)"
      ],
      "execution_count": null,
      "outputs": [
        {
          "output_type": "stream",
          "text": [
            "3.5 -0.5\n"
          ],
          "name": "stdout"
        }
      ]
    },
    {
      "cell_type": "code",
      "metadata": {
        "colab": {
          "base_uri": "https://localhost:8080/"
        },
        "id": "Sm694gQHsQKs",
        "outputId": "837806f2-f9a1-4963-cf77-edf40aca728a"
      },
      "source": [
        "copy_df = divar_df[divar_df['year'].notna()]\n",
        "# finding the 1st quartile\n",
        "q1 = np.quantile(copy_df['year'], 0.25)\n",
        "# finding the 3rd quartile\n",
        "q3 = np.quantile(copy_df['year'], 0.75)\n",
        " \n",
        "# finding the iqr region\n",
        "iqr = q3-q1\n",
        " \n",
        "# finding upper and lower whiskers\n",
        "upper_bound = q3+(1.5*iqr)\n",
        "lower_bound = q1-(1.5*iqr)\n",
        "print(upper_bound, lower_bound)"
      ],
      "execution_count": null,
      "outputs": [
        {
          "output_type": "stream",
          "text": [
            "1404.0 1372.0\n"
          ],
          "name": "stdout"
        }
      ]
    },
    {
      "cell_type": "code",
      "metadata": {
        "colab": {
          "base_uri": "https://localhost:8080/"
        },
        "id": "Bd-KdaSIsRtq",
        "outputId": "5fba5b46-3dca-4d9d-a722-5b805fa574ea"
      },
      "source": [
        "# finding the 1st quartile\n",
        "q1 = np.quantile(divar_df['price'], 0.25)\n",
        "# finding the 3rd quartile\n",
        "q3 = np.quantile(divar_df['price'], 0.75)\n",
        " \n",
        "# finding the iqr region\n",
        "iqr = q3-q1\n",
        " \n",
        "# finding upper and lower whiskers\n",
        "upper_bound = q3+(1.5*iqr)\n",
        "lower_bound = q1-(1.5*iqr)\n",
        "print(upper_bound, lower_bound)"
      ],
      "execution_count": null,
      "outputs": [
        {
          "output_type": "stream",
          "text": [
            "1455000.0 -825000.0\n"
          ],
          "name": "stdout"
        }
      ]
    },
    {
      "cell_type": "code",
      "metadata": {
        "colab": {
          "base_uri": "https://localhost:8080/"
        },
        "id": "5ggKteb9sSyI",
        "outputId": "3267da1d-71c3-4040-d08e-7911c72b26cc"
      },
      "source": [
        "copy_df = divar_df[divar_df['mileage'].notna()]\n",
        "# finding the 1st quartile\n",
        "q1 = np.quantile(copy_df['mileage'], 0.25)\n",
        "# finding the 3rd quartile\n",
        "q3 = np.quantile(copy_df['mileage'], 0.75)\n",
        " \n",
        "# finding the iqr region\n",
        "iqr = q3-q1\n",
        " \n",
        "# finding upper and lower whiskers\n",
        "upper_bound = q3+(1.5*iqr)\n",
        "lower_bound = q1-(1.5*iqr)\n",
        "print(upper_bound, lower_bound)"
      ],
      "execution_count": null,
      "outputs": [
        {
          "output_type": "stream",
          "text": [
            "371500.0 -192500.0\n"
          ],
          "name": "stdout"
        }
      ]
    },
    {
      "cell_type": "markdown",
      "metadata": {
        "id": "2RS98BeT3peC"
      },
      "source": [
        "### caculate completeness"
      ]
    },
    {
      "cell_type": "code",
      "metadata": {
        "colab": {
          "base_uri": "https://localhost:8080/"
        },
        "id": "8XZH8wek3t0e",
        "outputId": "9d81487d-0bbd-42c5-ae11-3b9324a97358"
      },
      "source": [
        "complete_1 = len(divar_df.dropna()) / len(divar_df)\n",
        "print(\"first method: \" + str(complete_1))\n",
        "\n",
        "complete_2 = len(divar_df.dropna(subset=['image_count', 'desc', 'cat1', 'cat2', 'cat3'])) / len(divar_df)\n",
        "print(\"second method: \" + str(complete_2))\n",
        "\n",
        "not_null_attribute = 0\n",
        "for column in divar_df:\n",
        "  not_null_attribute += len(divar_df[column].dropna())\n",
        "complete_3 = not_null_attribute / (len(divar_df.columns) * len(divar_df))\n",
        "print(\"third method: \" + str(complete_3))"
      ],
      "execution_count": null,
      "outputs": [
        {
          "output_type": "stream",
          "text": [
            "first method: 0.0\n",
            "second method: 0.8181430614107752\n",
            "third method: 0.7583943888381779\n"
          ],
          "name": "stdout"
        }
      ]
    }
  ]
}