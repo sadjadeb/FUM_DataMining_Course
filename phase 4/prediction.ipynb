{
  "nbformat": 4,
  "nbformat_minor": 0,
  "metadata": {
    "accelerator": "TPU",
    "colab": {
      "name": "prediction.ipynb",
      "provenance": [],
      "collapsed_sections": []
    },
    "kernelspec": {
      "display_name": "Python 3",
      "name": "python3"
    },
    "language_info": {
      "name": "python"
    }
  },
  "cells": [
    {
      "cell_type": "markdown",
      "metadata": {
        "id": "dJSzACR1Zme0"
      },
      "source": [
        "import libraries"
      ]
    },
    {
      "cell_type": "code",
      "metadata": {
        "id": "zdznX3bfZLy2"
      },
      "source": [
        "import pandas as pd\n",
        "import matplotlib.pyplot as plt\n",
        "import numpy as np\n",
        "from sklearn import preprocessing\n",
        "from sklearn.metrics import accuracy_score, classification_report\n",
        "from sklearn.neighbors import KNeighborsClassifier\n",
        "from sklearn.model_selection import train_test_split\n",
        "from sklearn.tree import DecisionTreeClassifier"
      ],
      "execution_count": 10,
      "outputs": []
    },
    {
      "cell_type": "markdown",
      "metadata": {
        "id": "3OrM-wsIZ3XE"
      },
      "source": [
        "loading data set"
      ]
    },
    {
      "cell_type": "code",
      "metadata": {
        "colab": {
          "base_uri": "https://localhost:8080/"
        },
        "id": "wZnrLTdDgd2V",
        "outputId": "21a6b1bd-1f4f-411d-88e8-889d468f4337"
      },
      "source": [
        "divar_df = pd.read_csv('/content/drive/MyDrive/divar_posts_dataset.csv', index_col=[0])\n",
        "divar_df.drop('id', axis=1, inplace=True)\n",
        "divar_df.year.replace(to_replace=\"<1366\",value=int(\"1366\"), inplace=True)\n",
        "divar_df['year'] = pd.to_numeric(divar_df['year'])\n",
        "print(divar_df.info())"
      ],
      "execution_count": 11,
      "outputs": [
        {
          "output_type": "stream",
          "text": [
            "<class 'pandas.core.frame.DataFrame'>\n",
            "Int64Index: 947635 entries, 0 to 947634\n",
            "Data columns (total 15 columns):\n",
            " #   Column           Non-Null Count   Dtype  \n",
            "---  ------           --------------   -----  \n",
            " 0   archive_by_user  947635 non-null  bool   \n",
            " 1   brand            190892 non-null  object \n",
            " 2   cat1             947635 non-null  object \n",
            " 3   cat2             945877 non-null  object \n",
            " 4   cat3             775301 non-null  object \n",
            " 5   city             947635 non-null  object \n",
            " 6   created_at       947635 non-null  object \n",
            " 7   desc             947635 non-null  object \n",
            " 8   image_count      947635 non-null  int64  \n",
            " 9   mileage          120451 non-null  float64\n",
            " 10  platform         947635 non-null  object \n",
            " 11  price            947635 non-null  int64  \n",
            " 12  title            947635 non-null  object \n",
            " 13  type             98529 non-null   object \n",
            " 14  year             120451 non-null  float64\n",
            "dtypes: bool(1), float64(2), int64(2), object(10)\n",
            "memory usage: 109.4+ MB\n",
            "None\n"
          ],
          "name": "stdout"
        }
      ]
    },
    {
      "cell_type": "markdown",
      "metadata": {
        "id": "EzO19x3uaDFl"
      },
      "source": [
        "remove prices with -1 value and null category objects"
      ]
    },
    {
      "cell_type": "code",
      "metadata": {
        "colab": {
          "base_uri": "https://localhost:8080/"
        },
        "id": "tM5WXMi2aIbT",
        "outputId": "1ce5bd08-e17f-4343-b90c-180735ccc4a1"
      },
      "source": [
        "divar_df = divar_df.loc[~(divar_df['price'] == -1)]\n",
        "divar_df = divar_df.loc[~(divar_df['cat3'].isnull())]\n",
        "divar_df.info()"
      ],
      "execution_count": 12,
      "outputs": [
        {
          "output_type": "stream",
          "text": [
            "<class 'pandas.core.frame.DataFrame'>\n",
            "Int64Index: 650276 entries, 0 to 947634\n",
            "Data columns (total 15 columns):\n",
            " #   Column           Non-Null Count   Dtype  \n",
            "---  ------           --------------   -----  \n",
            " 0   archive_by_user  650276 non-null  bool   \n",
            " 1   brand            167140 non-null  object \n",
            " 2   cat1             650276 non-null  object \n",
            " 3   cat2             650276 non-null  object \n",
            " 4   cat3             650276 non-null  object \n",
            " 5   city             650276 non-null  object \n",
            " 6   created_at       650276 non-null  object \n",
            " 7   desc             650276 non-null  object \n",
            " 8   image_count      650276 non-null  int64  \n",
            " 9   mileage          103799 non-null  float64\n",
            " 10  platform         650276 non-null  object \n",
            " 11  price            650276 non-null  int64  \n",
            " 12  title            650276 non-null  object \n",
            " 13  type             77068 non-null   object \n",
            " 14  year             103799 non-null  float64\n",
            "dtypes: bool(1), float64(2), int64(2), object(10)\n",
            "memory usage: 75.0+ MB\n"
          ],
          "name": "stdout"
        }
      ]
    },
    {
      "cell_type": "markdown",
      "metadata": {
        "id": "CwPoKlZsE_yn"
      },
      "source": [
        "find outliers and delete them"
      ]
    },
    {
      "cell_type": "code",
      "metadata": {
        "colab": {
          "base_uri": "https://localhost:8080/"
        },
        "id": "hM1YLKpAFIMA",
        "outputId": "86818d18-907d-48fa-c735-a88be883ac67"
      },
      "source": [
        "# finding the 1st quartile\n",
        "q1 = np.quantile(divar_df['price'], 0.25)\n",
        "# finding the 3rd quartile\n",
        "q3 = np.quantile(divar_df['price'], 0.75)\n",
        " \n",
        "# finding the iqr region\n",
        "iqr = q3-q1\n",
        " \n",
        "# finding upper and lower whiskers\n",
        "upper_bound = q3+(1.5*iqr)\n",
        "lower_bound = q1-(1.5*iqr)\n",
        "print(upper_bound, lower_bound)\n",
        "\n",
        "divar_df = divar_df.loc[~(divar_df['price'] < lower_bound)]\n",
        "divar_df = divar_df.loc[~(divar_df['price'] > upper_bound)]\n",
        "\n",
        "divar_df.info()"
      ],
      "execution_count": 13,
      "outputs": [
        {
          "output_type": "stream",
          "text": [
            "2405000.0 -1315000.0\n",
            "<class 'pandas.core.frame.DataFrame'>\n",
            "Int64Index: 528806 entries, 1 to 947634\n",
            "Data columns (total 15 columns):\n",
            " #   Column           Non-Null Count   Dtype  \n",
            "---  ------           --------------   -----  \n",
            " 0   archive_by_user  528806 non-null  bool   \n",
            " 1   brand            63865 non-null   object \n",
            " 2   cat1             528806 non-null  object \n",
            " 3   cat2             528806 non-null  object \n",
            " 4   cat3             528806 non-null  object \n",
            " 5   city             528806 non-null  object \n",
            " 6   created_at       528806 non-null  object \n",
            " 7   desc             528806 non-null  object \n",
            " 8   image_count      528806 non-null  int64  \n",
            " 9   mileage          966 non-null     float64\n",
            " 10  platform         528806 non-null  object \n",
            " 11  price            528806 non-null  int64  \n",
            " 12  title            528806 non-null  object \n",
            " 13  type             77068 non-null   object \n",
            " 14  year             966 non-null     float64\n",
            "dtypes: bool(1), float64(2), int64(2), object(10)\n",
            "memory usage: 61.0+ MB\n"
          ],
          "name": "stdout"
        }
      ]
    },
    {
      "cell_type": "code",
      "metadata": {
        "id": "uqRW2HFKcHn5"
      },
      "source": [
        "divar_df['cat1'] = preprocessing.LabelEncoder().fit_transform(divar_df['cat1'])\n",
        "divar_df['cat2'] = preprocessing.LabelEncoder().fit_transform(divar_df['cat2'])\n",
        "divar_df['cat3'] = preprocessing.LabelEncoder().fit_transform(divar_df['cat3'])\n",
        "# divar_df['price'] = preprocessing.StandardScaler().fit_transform(divar_df[['price']]).astype('int')\n",
        "\n",
        "\n",
        "# divar_df_mod = divar_df.iloc[:10000]\n",
        "# X = divar_df_mod[[\"cat1\", \"cat2\", \"cat3\"]].values\n",
        "# Y = divar_df_mod[[\"price\"]].values\n",
        "\n",
        "X = divar_df[[\"cat1\", \"cat2\", \"cat3\"]].values\n",
        "Y = divar_df[[\"price\"]].values\n",
        "X_train, X_test, Y_train, Y_test = train_test_split(X, Y, random_state=0, test_size=0.2)"
      ],
      "execution_count": 14,
      "outputs": []
    },
    {
      "cell_type": "markdown",
      "metadata": {
        "id": "I1fit9mhtnz8"
      },
      "source": [
        "change shape of labels"
      ]
    },
    {
      "cell_type": "code",
      "metadata": {
        "colab": {
          "base_uri": "https://localhost:8080/"
        },
        "id": "GqVWiMw4r3KC",
        "outputId": "b9e72de6-b34a-4a7d-d4dc-1e8963706a13"
      },
      "source": [
        "Y_test = Y_test.ravel()\n",
        "Y_train = Y_train.ravel()\n",
        "Y_train.shape"
      ],
      "execution_count": 15,
      "outputs": [
        {
          "output_type": "execute_result",
          "data": {
            "text/plain": [
              "(423044,)"
            ]
          },
          "metadata": {
            "tags": []
          },
          "execution_count": 15
        }
      ]
    },
    {
      "cell_type": "markdown",
      "metadata": {
        "id": "3e8gDX2he6T8"
      },
      "source": [
        "define classsifier(KNN)"
      ]
    },
    {
      "cell_type": "code",
      "metadata": {
        "id": "faVLwtVMe7hO"
      },
      "source": [
        "classifier = KNeighborsClassifier(n_neighbors=5)\n",
        "classifier.fit(X_train, Y_train)\n",
        "Y_predicted = classifier.predict(X_test)"
      ],
      "execution_count": 16,
      "outputs": []
    },
    {
      "cell_type": "markdown",
      "metadata": {
        "id": "avzTrOBQy-b1"
      },
      "source": [
        "calculate metrics"
      ]
    },
    {
      "cell_type": "code",
      "metadata": {
        "colab": {
          "base_uri": "https://localhost:8080/"
        },
        "id": "ogRroGn_zD4v",
        "outputId": "46ca985c-cea7-4259-b412-86a7bb526b35"
      },
      "source": [
        "print(\"accuracy:\")\n",
        "print(accuracy_score(Y_test, Y_predicted))\n",
        "\n",
        "correct = 0\n",
        "for i in range(len(Y_test)):\n",
        "  alpha = 0.3\n",
        "  max_price = Y_test[i] * (1 + alpha)\n",
        "  min_price = Y_test[i] * (1 - alpha)\n",
        "  if min_price < Y_predicted[i] < max_price:\n",
        "    correct += 1\n",
        "\n",
        "print(\"telorance accuracy:\")\n",
        "print(correct / len(Y_test))\n",
        "\n",
        "# print(\"classification report:\")\n",
        "# print(classification_report(Y_test, Y_predicted))"
      ],
      "execution_count": 17,
      "outputs": [
        {
          "output_type": "stream",
          "text": [
            "accuracy:\n",
            "0.037442559709536506\n",
            "telorance accuracy:\n",
            "0.16288458992832966\n"
          ],
          "name": "stdout"
        }
      ]
    },
    {
      "cell_type": "markdown",
      "metadata": {
        "id": "r00P-mHmlc2q"
      },
      "source": [
        "Comparing Error Rate with the K Value"
      ]
    },
    {
      "cell_type": "code",
      "metadata": {
        "colab": {
          "base_uri": "https://localhost:8080/",
          "height": 421
        },
        "id": "IzFTzR6hld3p",
        "outputId": "4a8e4368-3734-4cc5-ac09-0ff9a9a95e41"
      },
      "source": [
        "error = []\n",
        "\n",
        "# Calculating error for K values between 1 and 25\n",
        "for i in range(1, 25):\n",
        "    knn = KNeighborsClassifier(n_neighbors=i)\n",
        "    knn.fit(X_train, Y_train)\n",
        "    pred_i = knn.predict(X_test)\n",
        "    error.append(np.mean(pred_i != Y_test))\n",
        "\n",
        "plt.figure(figsize=(12, 6))\n",
        "plt.plot(range(1, 25), error, color='red', linestyle='dashed', marker='o',\n",
        "         markerfacecolor='blue', markersize=10)\n",
        "plt.title('Error Rate K Value')\n",
        "plt.xlabel('K Value')\n",
        "plt.ylabel('Mean Error')"
      ],
      "execution_count": 18,
      "outputs": [
        {
          "output_type": "execute_result",
          "data": {
            "text/plain": [
              "Text(0, 0.5, 'Mean Error')"
            ]
          },
          "metadata": {
            "tags": []
          },
          "execution_count": 18
        },
        {
          "output_type": "display_data",
          "data": {
            "image/png": "[encoded data removed]",
            "text/plain": [
              "<Figure size 864x432 with 1 Axes>"
            ]
          },
          "metadata": {
            "tags": [],
            "needs_background": "light"
          }
        }
      ]
    }
  ]
}