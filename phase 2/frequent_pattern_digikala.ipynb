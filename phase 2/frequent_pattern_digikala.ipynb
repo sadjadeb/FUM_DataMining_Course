{
  "nbformat": 4,
  "nbformat_minor": 0,
  "metadata": {
    "colab": {
      "name": "frequent_pattern_digikala.ipynb",
      "provenance": [],
      "collapsed_sections": []
    },
    "kernelspec": {
      "name": "python3",
      "display_name": "Python 3"
    },
    "language_info": {
      "name": "python"
    },
    "accelerator": "TPU"
  },
  "cells": [
    {
      "cell_type": "markdown",
      "metadata": {
        "id": "qtyk8VTIu5-O"
      },
      "source": [
        "### import libraries"
      ]
    },
    {
      "cell_type": "code",
      "metadata": {
        "collapsed": true,
        "pycharm": {
          "name": "#%%\n"
        },
        "colab": {
          "base_uri": "https://localhost:8080/"
        },
        "id": "0JcHG3eggd2F",
        "outputId": "85210f74-1c60-4a09-b1f5-eb761d2e18e5"
      },
      "source": [
        "import pandas as pd\n",
        "pd.set_option('display.float_format', '{:.4f}'.format)\n",
        "import numpy as np\n",
        "!pip install mlxtend\n",
        "from mlxtend.frequent_patterns import apriori, association_rules\n",
        "from mlxtend.preprocessing import TransactionEncoder"
      ],
      "execution_count": 1,
      "outputs": [
        {
          "output_type": "stream",
          "text": [
            "Requirement already satisfied: mlxtend in /usr/local/lib/python3.7/dist-packages (0.14.0)\n",
            "Requirement already satisfied: pandas>=0.17.1 in /usr/local/lib/python3.7/dist-packages (from mlxtend) (1.1.5)\n",
            "Requirement already satisfied: numpy>=1.10.4 in /usr/local/lib/python3.7/dist-packages (from mlxtend) (1.19.5)\n",
            "Requirement already satisfied: setuptools in /usr/local/lib/python3.7/dist-packages (from mlxtend) (56.1.0)\n",
            "Requirement already satisfied: matplotlib>=1.5.1 in /usr/local/lib/python3.7/dist-packages (from mlxtend) (3.2.2)\n",
            "Requirement already satisfied: scikit-learn>=0.18 in /usr/local/lib/python3.7/dist-packages (from mlxtend) (0.22.2.post1)\n",
            "Requirement already satisfied: scipy>=0.17 in /usr/local/lib/python3.7/dist-packages (from mlxtend) (1.4.1)\n",
            "Requirement already satisfied: pytz>=2017.2 in /usr/local/lib/python3.7/dist-packages (from pandas>=0.17.1->mlxtend) (2018.9)\n",
            "Requirement already satisfied: python-dateutil>=2.7.3 in /usr/local/lib/python3.7/dist-packages (from pandas>=0.17.1->mlxtend) (2.8.1)\n",
            "Requirement already satisfied: pyparsing!=2.0.4,!=2.1.2,!=2.1.6,>=2.0.1 in /usr/local/lib/python3.7/dist-packages (from matplotlib>=1.5.1->mlxtend) (2.4.7)\n",
            "Requirement already satisfied: kiwisolver>=1.0.1 in /usr/local/lib/python3.7/dist-packages (from matplotlib>=1.5.1->mlxtend) (1.3.1)\n",
            "Requirement already satisfied: cycler>=0.10 in /usr/local/lib/python3.7/dist-packages (from matplotlib>=1.5.1->mlxtend) (0.10.0)\n",
            "Requirement already satisfied: joblib>=0.11 in /usr/local/lib/python3.7/dist-packages (from scikit-learn>=0.18->mlxtend) (1.0.1)\n",
            "Requirement already satisfied: six>=1.5 in /usr/local/lib/python3.7/dist-packages (from python-dateutil>=2.7.3->pandas>=0.17.1->mlxtend) (1.15.0)\n"
          ],
          "name": "stdout"
        }
      ]
    },
    {
      "cell_type": "markdown",
      "metadata": {
        "id": "iImGWSybEbjr"
      },
      "source": [
        "###loading data"
      ]
    },
    {
      "cell_type": "code",
      "metadata": {
        "id": "rXNY7XR4EZqP",
        "colab": {
          "base_uri": "https://localhost:8080/"
        },
        "outputId": "c8f65a93-384f-48fe-f35b-169184229452"
      },
      "source": [
        "dk_df = pd.read_csv('/content/drive/MyDrive/orders.csv')\n",
        "dk_df.info()"
      ],
      "execution_count": 24,
      "outputs": [
        {
          "output_type": "stream",
          "text": [
            "<class 'pandas.core.frame.DataFrame'>\n",
            "RangeIndex: 200000 entries, 0 to 199999\n",
            "Data columns (total 7 columns):\n",
            " #   Column                 Non-Null Count   Dtype  \n",
            "---  ------                 --------------   -----  \n",
            " 0   ID_Order               200000 non-null  int64  \n",
            " 1   ID_Customer            200000 non-null  int64  \n",
            " 2   ID_Item                200000 non-null  int64  \n",
            " 3   DateTime_CartFinalize  200000 non-null  object \n",
            " 4   Amount_Gross_Order     200000 non-null  float64\n",
            " 5   city_name_fa           200000 non-null  object \n",
            " 6   Quantity_item          200000 non-null  float64\n",
            "dtypes: float64(2), int64(3), object(2)\n",
            "memory usage: 10.7+ MB\n"
          ],
          "name": "stdout"
        }
      ]
    },
    {
      "cell_type": "markdown",
      "metadata": {
        "id": "cs5ThOaoedBo"
      },
      "source": [
        "###extract frequent pattern"
      ]
    },
    {
      "cell_type": "code",
      "metadata": {
        "id": "OeW_s4Dred6H"
      },
      "source": [
        "dk_df = dk_df[['ID_Customer', 'ID_Item']]\n",
        "dk_df = dk_df.iloc[:20000]\n",
        "\n",
        "transactions = dict()\n",
        "for i in range(len(dk_df)):\n",
        "  if dk_df.iloc[i]['ID_Customer'] not in transactions:\n",
        "    transactions[dk_df.iloc[i]['ID_Customer']] = [dk_df.iloc[i]['ID_Item']]\n",
        "  else:\n",
        "    transactions[dk_df.iloc[i]['ID_Customer']] += [dk_df.iloc[i]['ID_Item']]\n",
        "\n",
        "te = TransactionEncoder()\n",
        "te_ary = te.fit(transactions.values()).transform(transactions.values())\n",
        "converted_df = pd.DataFrame(te_ary, columns=te.columns_)\n",
        "patterns = apriori(converted_df, min_support=0.0005, use_colnames=True)"
      ],
      "execution_count": 29,
      "outputs": []
    },
    {
      "cell_type": "code",
      "metadata": {
        "colab": {
          "base_uri": "https://localhost:8080/"
        },
        "id": "JXMAQ2xWtrXg",
        "outputId": "70fcb233-56a8-41cd-830b-e10391757286"
      },
      "source": [
        "product_df = pd.read_csv('/content/drive/MyDrive/product.csv')\n",
        "product_df = product_df[['id', 'product_title_fa']]\n",
        "\n",
        "# product_dict = product_df.to_dict()\n",
        "\n",
        "print(\"frequent patterns:\")\n",
        "print(\"product id          support\")\n",
        "for i in range(len(patterns)):\n",
        "  print(str(list(patterns.iloc[i]['itemsets'])[0]) + \"               \" + str(patterns.iloc[i]['support'].round(5)))\n",
        "\n",
        "print(\"frequent patterns:\")\n",
        "print(\"product name              support\")\n",
        "for i in range(len(patterns)):\n",
        "  for j in range(len(product_df)):\n",
        "    if product_df.iloc[j]['id'] == list(patterns.iloc[i]['itemsets'])[0]:\n",
        "      print(product_df.iloc[j]['product_title_fa'] + \"       \" + str(patterns.iloc[i]['support'].round(5)))"
      ],
      "execution_count": 73,
      "outputs": [
        {
          "output_type": "stream",
          "text": [
            "/usr/local/lib/python3.7/dist-packages/IPython/core/interactiveshell.py:2718: DtypeWarning: Columns (9) have mixed types.Specify dtype option on import or set low_memory=False.\n",
            "  interactivity=interactivity, compiler=compiler, result=result)\n"
          ],
          "name": "stderr"
        },
        {
          "output_type": "stream",
          "text": [
            "frequent patterns:\n",
            "product id          support\n",
            "3566               0.00057\n",
            "7225               0.0012\n",
            "7534               0.00073\n",
            "8289               0.0012\n",
            "9604               0.00057\n",
            "11723               0.00052\n",
            "12532               0.00083\n",
            "19890               0.0011\n",
            "20215               0.00057\n",
            "22839               0.00068\n",
            "36871               0.00219\n",
            "42124               0.00104\n",
            "43106               0.00052\n",
            "44448               0.00057\n",
            "44653               0.00063\n",
            "45121               0.00162\n",
            "51778               0.00141\n",
            "58411               0.00052\n",
            "74926               0.00057\n",
            "77707               0.00089\n",
            "82966               0.00052\n",
            "118375               0.00068\n",
            "129574               0.00068\n",
            "137583               0.00052\n",
            "153067               0.00089\n",
            "163090               0.00063\n",
            "165336               0.00052\n",
            "245223               0.00068\n",
            "254946               0.00052\n",
            "269170               0.00063\n",
            "294923               0.00057\n",
            "294942               0.0023\n",
            "294943               0.00078\n",
            "295740               0.00052\n",
            "391372               0.00063\n",
            "416448               0.0012\n",
            "417989               0.00057\n",
            "514657               0.00052\n",
            "514659               0.00052\n",
            "frequent patterns:\n",
            "product name              support\n"
          ],
          "name": "stdout"
        }
      ]
    }
  ]
}