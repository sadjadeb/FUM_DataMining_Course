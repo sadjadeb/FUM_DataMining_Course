{
  "nbformat": 4,
  "nbformat_minor": 0,
  "metadata": {
    "colab": {
      "name": "frequent_pattern_divar.ipynb",
      "provenance": [],
      "collapsed_sections": []
    },
    "kernelspec": {
      "name": "python3",
      "display_name": "Python 3"
    },
    "language_info": {
      "name": "python"
    },
    "accelerator": "TPU"
  },
  "cells": [
    {
      "cell_type": "markdown",
      "metadata": {
        "id": "qtyk8VTIu5-O"
      },
      "source": [
        "### import libraries"
      ]
    },
    {
      "cell_type": "code",
      "metadata": {
        "collapsed": true,
        "pycharm": {
          "name": "#%%\n"
        },
        "colab": {
          "base_uri": "https://localhost:8080/"
        },
        "id": "0JcHG3eggd2F",
        "outputId": "0a3015d1-03d8-43dd-bf72-61cd40be853c"
      },
      "source": [
        "import pandas as pd\n",
        "pd.set_option('display.float_format', '{:.4f}'.format)\n",
        "import numpy as np\n",
        "!pip install mlxtend\n",
        "from mlxtend.frequent_patterns import apriori, association_rules\n",
        "from mlxtend.preprocessing import TransactionEncoder"
      ],
      "execution_count": null,
      "outputs": [
        {
          "output_type": "stream",
          "text": [
            "Requirement already satisfied: mlxtend in /usr/local/lib/python3.7/dist-packages (0.14.0)\n",
            "Requirement already satisfied: matplotlib>=1.5.1 in /usr/local/lib/python3.7/dist-packages (from mlxtend) (3.2.2)\n",
            "Requirement already satisfied: scipy>=0.17 in /usr/local/lib/python3.7/dist-packages (from mlxtend) (1.4.1)\n",
            "Requirement already satisfied: setuptools in /usr/local/lib/python3.7/dist-packages (from mlxtend) (56.1.0)\n",
            "Requirement already satisfied: scikit-learn>=0.18 in /usr/local/lib/python3.7/dist-packages (from mlxtend) (0.22.2.post1)\n",
            "Requirement already satisfied: numpy>=1.10.4 in /usr/local/lib/python3.7/dist-packages (from mlxtend) (1.19.5)\n",
            "Requirement already satisfied: pandas>=0.17.1 in /usr/local/lib/python3.7/dist-packages (from mlxtend) (1.2.4)\n",
            "Requirement already satisfied: pyparsing!=2.0.4,!=2.1.2,!=2.1.6,>=2.0.1 in /usr/local/lib/python3.7/dist-packages (from matplotlib>=1.5.1->mlxtend) (2.4.7)\n",
            "Requirement already satisfied: cycler>=0.10 in /usr/local/lib/python3.7/dist-packages (from matplotlib>=1.5.1->mlxtend) (0.10.0)\n",
            "Requirement already satisfied: python-dateutil>=2.1 in /usr/local/lib/python3.7/dist-packages (from matplotlib>=1.5.1->mlxtend) (2.8.1)\n",
            "Requirement already satisfied: kiwisolver>=1.0.1 in /usr/local/lib/python3.7/dist-packages (from matplotlib>=1.5.1->mlxtend) (1.3.1)\n",
            "Requirement already satisfied: joblib>=0.11 in /usr/local/lib/python3.7/dist-packages (from scikit-learn>=0.18->mlxtend) (1.0.1)\n",
            "Requirement already satisfied: pytz>=2017.3 in /usr/local/lib/python3.7/dist-packages (from pandas>=0.17.1->mlxtend) (2018.9)\n",
            "Requirement already satisfied: six in /usr/local/lib/python3.7/dist-packages (from cycler>=0.10->matplotlib>=1.5.1->mlxtend) (1.15.0)\n"
          ],
          "name": "stdout"
        }
      ]
    },
    {
      "cell_type": "markdown",
      "metadata": {
        "id": "iImGWSybEbjr"
      },
      "source": [
        "###loading data"
      ]
    },
    {
      "cell_type": "code",
      "metadata": {
        "id": "rXNY7XR4EZqP"
      },
      "source": [
        "divar_df = pd.read_csv('/content/drive/MyDrive/divar_posts_dataset.csv', index_col=[0])"
      ],
      "execution_count": null,
      "outputs": []
    },
    {
      "cell_type": "markdown",
      "metadata": {
        "collapsed": false,
        "pycharm": {
          "name": "#%% md\n"
        },
        "id": "LYk9vpVCgd2T"
      },
      "source": [
        "### preprocessing"
      ]
    },
    {
      "cell_type": "code",
      "metadata": {
        "pycharm": {
          "name": "#%%\n"
        },
        "id": "wZnrLTdDgd2V"
      },
      "source": [
        "divar_df_1 = divar_df[['cat1', 'cat2', 'cat3', 'city']]\n",
        "divar_df_3 = divar_df[['created_at', 'platform']]\n",
        "divar_df_4 = divar_df[['cat1', 'cat2', 'cat3', 'platform']]\n",
        "\n",
        "divar_df_1 = divar_df_1.iloc[:250] # limit record because google colab session expired after some minutes\n",
        "divar_df_3 = divar_df_3.iloc[:250] # limit record because google colab session expired after some minutes\n",
        "divar_df_4 = divar_df_4.iloc[:250] # limit record because google colab session expired after some minutes"
      ],
      "execution_count": null,
      "outputs": []
    },
    {
      "cell_type": "markdown",
      "metadata": {
        "id": "uBD6vq-e7hGX"
      },
      "source": [
        "###extract frequent pattern for 1st step"
      ]
    },
    {
      "cell_type": "code",
      "metadata": {
        "colab": {
          "base_uri": "https://localhost:8080/"
        },
        "id": "8aupO-rM1fpT",
        "outputId": "ab306883-76cc-49a6-c027-152f7c75b51c"
      },
      "source": [
        "transactions = dict()\n",
        "for i in range(len(divar_df_1)):\n",
        "  if divar_df_1.iloc[i]['city'] not in transactions:\n",
        "    transactions[divar_df_1.iloc[i]['city']] = [[divar_df_1.iloc[i]['cat1'], divar_df_1.iloc[i]['cat2'], divar_df_1.iloc[i]['cat3']]]\n",
        "  else:\n",
        "    transactions[divar_df_1.iloc[i]['city']] += [[divar_df_1.iloc[i]['cat1'], divar_df_1.iloc[i]['cat2'], divar_df_1.iloc[i]['cat3']]]\n",
        "\n",
        "for key in transactions:\n",
        "  for i in range(len(transactions[key])):\n",
        "    transactions[key][i] = [x for x in transactions[key][i] if str(x) != 'nan']\n",
        "\n",
        "for key in transactions:\n",
        "  te = TransactionEncoder()\n",
        "  te_ary = te.fit(transactions[key]).transform(transactions[key])\n",
        "  converted_df = pd.DataFrame(te_ary, columns=te.columns_)\n",
        "  print(\"============\" + str(key) + \"============\")\n",
        "  print(apriori(converted_df, min_support=0.2, use_colnames=True))"
      ],
      "execution_count": null,
      "outputs": [
        {
          "output_type": "stream",
          "text": [
            "============Tehran============\n",
            "   support                                   itemsets\n",
            "0   0.3089                             (for-the-home)\n",
            "1   0.2195                (furniture-and-home-decore)\n",
            "2   0.2114                                 (vehicles)\n",
            "3   0.2195  (for-the-home, furniture-and-home-decore)\n",
            "============Mashhad============\n",
            "   support                                  itemsets\n",
            "0   0.2368                                (clothing)\n",
            "1   0.2368                      (clothing-and-shoes)\n",
            "2   0.2368                            (for-the-home)\n",
            "3   0.2895                                (personal)\n",
            "4   0.2105                                (vehicles)\n",
            "5   0.2368            (clothing-and-shoes, clothing)\n",
            "6   0.2368                      (personal, clothing)\n",
            "7   0.2368            (personal, clothing-and-shoes)\n",
            "8   0.2368  (personal, clothing-and-shoes, clothing)\n",
            "============Karaj============\n",
            "   support                                   itemsets\n",
            "0   0.2105                       (electronic-devices)\n",
            "1   0.3684                             (for-the-home)\n",
            "2   0.3684                (furniture-and-home-decore)\n",
            "3   0.2632                                 (personal)\n",
            "4   0.3684  (for-the-home, furniture-and-home-decore)\n",
            "============Qom============\n",
            "   support                                   itemsets\n",
            "0   0.2500                       (clothing-and-shoes)\n",
            "1   0.2500                             (for-the-home)\n",
            "2   0.2500                (furniture-and-home-decore)\n",
            "3   0.2500                          (leisure-hobbies)\n",
            "4   0.2500                                 (personal)\n",
            "5   0.2500             (personal, clothing-and-shoes)\n",
            "6   0.2500  (for-the-home, furniture-and-home-decore)\n",
            "============Isfahan============\n",
            "   support                                   itemsets\n",
            "0   0.2143                       (electronic-devices)\n",
            "1   0.2857                             (for-the-home)\n",
            "2   0.2143                (furniture-and-home-decore)\n",
            "3   0.2143                                 (vehicles)\n",
            "4   0.2143  (for-the-home, furniture-and-home-decore)\n",
            "============Shiraz============\n",
            "    support                                   itemsets\n",
            "0    0.2778                                     (cars)\n",
            "1    0.2778                             (for-the-home)\n",
            "2    0.2222                (furniture-and-home-decore)\n",
            "3    0.2778                                    (light)\n",
            "4    0.2222                        (parts-accessories)\n",
            "5    0.5556                                 (vehicles)\n",
            "6    0.2778                              (cars, light)\n",
            "7    0.2778                           (cars, vehicles)\n",
            "8    0.2222  (for-the-home, furniture-and-home-decore)\n",
            "9    0.2778                          (vehicles, light)\n",
            "10   0.2222              (vehicles, parts-accessories)\n",
            "11   0.2778                    (cars, vehicles, light)\n",
            "============Tabriz============\n",
            "    support                                           itemsets\n",
            "0    0.2000                                 (antiques-and-art)\n",
            "1    0.2000                               (clothing-and-shoes)\n",
            "2    0.3000                                     (for-the-home)\n",
            "3    0.3000                        (furniture-and-home-decore)\n",
            "4    0.2000                                    (health-beauty)\n",
            "5    0.4000                                         (personal)\n",
            "6    0.2000                   (for-the-home, antiques-and-art)\n",
            "7    0.2000      (furniture-and-home-decore, antiques-and-art)\n",
            "8    0.2000                     (personal, clothing-and-shoes)\n",
            "9    0.3000          (for-the-home, furniture-and-home-decore)\n",
            "10   0.2000                          (health-beauty, personal)\n",
            "11   0.2000  (furniture-and-home-decore, for-the-home, anti...\n",
            "============Ahvaz============\n",
            "    support                                           itemsets\n",
            "0    0.2143                                             (cars)\n",
            "1    0.2143                               (electronic-devices)\n",
            "2    0.2857                                     (for-the-home)\n",
            "3    0.2143                        (furniture-and-home-decore)\n",
            "4    0.2143                                    (mobile-phones)\n",
            "5    0.2143                                    (mobile-tablet)\n",
            "6    0.2857                                         (vehicles)\n",
            "7    0.2143                                   (cars, vehicles)\n",
            "8    0.2143                (electronic-devices, mobile-phones)\n",
            "9    0.2143                (mobile-tablet, electronic-devices)\n",
            "10   0.2143          (for-the-home, furniture-and-home-decore)\n",
            "11   0.2143                     (mobile-tablet, mobile-phones)\n",
            "12   0.2143  (mobile-tablet, electronic-devices, mobile-pho...\n",
            "============Kermanshah============\n",
            "    support                 itemsets\n",
            "0    1.0000                   (cars)\n",
            "1    0.5000                  (heavy)\n",
            "2    0.5000                  (light)\n",
            "3    1.0000               (vehicles)\n",
            "4    0.5000            (cars, heavy)\n",
            "5    0.5000            (cars, light)\n",
            "6    1.0000         (cars, vehicles)\n",
            "7    0.5000        (vehicles, heavy)\n",
            "8    0.5000        (vehicles, light)\n",
            "9    0.5000  (cars, vehicles, heavy)\n",
            "10   0.5000  (cars, vehicles, light)\n"
          ],
          "name": "stdout"
        }
      ]
    },
    {
      "cell_type": "markdown",
      "metadata": {
        "id": "dNhxoin9uvbt"
      },
      "source": [
        "###extract frequent pattern for 3rd step"
      ]
    },
    {
      "cell_type": "code",
      "metadata": {
        "id": "OmAyqlQWul0t"
      },
      "source": [
        "transactions = dict()\n",
        "divar_df_3.astype(str)\n",
        "for i in range(len(divar_df_3)):\n",
        "    transactions[i] = [divar_df_3.iloc[i]['created_at'].split(' ')[0], divar_df_3.iloc[i]['platform']]\n",
        "\n",
        "for key in transactions:\n",
        "  transactions[key] = [x for x in transactions[key] if str(x) != 'nan']"
      ],
      "execution_count": null,
      "outputs": []
    },
    {
      "cell_type": "code",
      "metadata": {
        "colab": {
          "base_uri": "https://localhost:8080/",
          "height": 142
        },
        "id": "e36QOWbo6muy",
        "outputId": "4347801c-dc79-4cbb-b633-cf3ed131dac1"
      },
      "source": [
        "te = TransactionEncoder()\n",
        "te_ary = te.fit(transactions.values()).transform(transactions.values())\n",
        "converted_df = pd.DataFrame(te_ary, columns=te.columns_)\n",
        "\n",
        "apriori(converted_df, min_support=0.2, use_colnames=True)"
      ],
      "execution_count": null,
      "outputs": [
        {
          "output_type": "execute_result",
          "data": {
            "text/html": [
              "<div>\n",
              "<style scoped>\n",
              "    .dataframe tbody tr th:only-of-type {\n",
              "        vertical-align: middle;\n",
              "    }\n",
              "\n",
              "    .dataframe tbody tr th {\n",
              "        vertical-align: top;\n",
              "    }\n",
              "\n",
              "    .dataframe thead th {\n",
              "        text-align: right;\n",
              "    }\n",
              "</style>\n",
              "<table border=\"1\" class=\"dataframe\">\n",
              "  <thead>\n",
              "    <tr style=\"text-align: right;\">\n",
              "      <th></th>\n",
              "      <th>support</th>\n",
              "      <th>itemsets</th>\n",
              "    </tr>\n",
              "  </thead>\n",
              "  <tbody>\n",
              "    <tr>\n",
              "      <th>0</th>\n",
              "      <td>0.2200</td>\n",
              "      <td>(Wednesday)</td>\n",
              "    </tr>\n",
              "    <tr>\n",
              "      <th>1</th>\n",
              "      <td>0.9480</td>\n",
              "      <td>(mobile)</td>\n",
              "    </tr>\n",
              "    <tr>\n",
              "      <th>2</th>\n",
              "      <td>0.2040</td>\n",
              "      <td>(mobile, Wednesday)</td>\n",
              "    </tr>\n",
              "  </tbody>\n",
              "</table>\n",
              "</div>"
            ],
            "text/plain": [
              "   support             itemsets\n",
              "0   0.2200          (Wednesday)\n",
              "1   0.9480             (mobile)\n",
              "2   0.2040  (mobile, Wednesday)"
            ]
          },
          "metadata": {
            "tags": []
          },
          "execution_count": 50
        }
      ]
    },
    {
      "cell_type": "markdown",
      "metadata": {
        "id": "gEqQMlj-4-gg"
      },
      "source": [
        "###extract frequent pattern for 4th step"
      ]
    },
    {
      "cell_type": "code",
      "metadata": {
        "id": "-vXbq6QH5Hee"
      },
      "source": [
        "transactions = dict()\n",
        "for i in range(len(divar_df_4)):\n",
        "  transactions[i] = [divar_df_4.iloc[i]['cat1'], divar_df_4.iloc[i]['cat2'], divar_df_4.iloc[i]['cat3'], divar_df_4.iloc[i]['platform']]\n",
        "\n",
        "for key in transactions:\n",
        "  transactions[key] = [x for x in transactions[key] if str(x) != 'nan']"
      ],
      "execution_count": null,
      "outputs": []
    },
    {
      "cell_type": "code",
      "metadata": {
        "colab": {
          "base_uri": "https://localhost:8080/",
          "height": 297
        },
        "id": "3gqrDhzQ49V_",
        "outputId": "0554c0a6-b232-4aed-e344-fc97a999f91c"
      },
      "source": [
        "te = TransactionEncoder()\n",
        "te_ary = te.fit(transactions.values()).transform(transactions.values())\n",
        "converted_df = pd.DataFrame(te_ary, columns=te.columns_)\n",
        "\n",
        "apriori(converted_df, min_support=0.2, use_colnames=True)"
      ],
      "execution_count": null,
      "outputs": [
        {
          "output_type": "execute_result",
          "data": {
            "text/html": [
              "<div>\n",
              "<style scoped>\n",
              "    .dataframe tbody tr th:only-of-type {\n",
              "        vertical-align: middle;\n",
              "    }\n",
              "\n",
              "    .dataframe tbody tr th {\n",
              "        vertical-align: top;\n",
              "    }\n",
              "\n",
              "    .dataframe thead th {\n",
              "        text-align: right;\n",
              "    }\n",
              "</style>\n",
              "<table border=\"1\" class=\"dataframe\">\n",
              "  <thead>\n",
              "    <tr style=\"text-align: right;\">\n",
              "      <th></th>\n",
              "      <th>support</th>\n",
              "      <th>itemsets</th>\n",
              "    </tr>\n",
              "  </thead>\n",
              "  <tbody>\n",
              "    <tr>\n",
              "      <th>0</th>\n",
              "      <td>0.2920</td>\n",
              "      <td>(for-the-home)</td>\n",
              "    </tr>\n",
              "    <tr>\n",
              "      <th>1</th>\n",
              "      <td>0.2240</td>\n",
              "      <td>(furniture-and-home-decore)</td>\n",
              "    </tr>\n",
              "    <tr>\n",
              "      <th>2</th>\n",
              "      <td>0.9480</td>\n",
              "      <td>(mobile)</td>\n",
              "    </tr>\n",
              "    <tr>\n",
              "      <th>3</th>\n",
              "      <td>0.2280</td>\n",
              "      <td>(vehicles)</td>\n",
              "    </tr>\n",
              "    <tr>\n",
              "      <th>4</th>\n",
              "      <td>0.2240</td>\n",
              "      <td>(for-the-home, furniture-and-home-decore)</td>\n",
              "    </tr>\n",
              "    <tr>\n",
              "      <th>5</th>\n",
              "      <td>0.2800</td>\n",
              "      <td>(mobile, for-the-home)</td>\n",
              "    </tr>\n",
              "    <tr>\n",
              "      <th>6</th>\n",
              "      <td>0.2160</td>\n",
              "      <td>(mobile, furniture-and-home-decore)</td>\n",
              "    </tr>\n",
              "    <tr>\n",
              "      <th>7</th>\n",
              "      <td>0.2160</td>\n",
              "      <td>(mobile, for-the-home, furniture-and-home-decore)</td>\n",
              "    </tr>\n",
              "  </tbody>\n",
              "</table>\n",
              "</div>"
            ],
            "text/plain": [
              "   support                                           itemsets\n",
              "0   0.2920                                     (for-the-home)\n",
              "1   0.2240                        (furniture-and-home-decore)\n",
              "2   0.9480                                           (mobile)\n",
              "3   0.2280                                         (vehicles)\n",
              "4   0.2240          (for-the-home, furniture-and-home-decore)\n",
              "5   0.2800                             (mobile, for-the-home)\n",
              "6   0.2160                (mobile, furniture-and-home-decore)\n",
              "7   0.2160  (mobile, for-the-home, furniture-and-home-decore)"
            ]
          },
          "metadata": {
            "tags": []
          },
          "execution_count": 54
        }
      ]
    }
  ]
}